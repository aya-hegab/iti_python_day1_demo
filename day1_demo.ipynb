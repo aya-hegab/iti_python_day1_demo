{
 "cells": [
  {
   "cell_type": "code",
   "execution_count": 1,
   "metadata": {},
   "outputs": [
    {
     "name": "stdout",
     "output_type": "stream",
     "text": [
      "hi\n"
     ]
    }
   ],
   "source": [
    "print(\"hi\")"
   ]
  },
  {
   "cell_type": "code",
   "execution_count": 2,
   "metadata": {},
   "outputs": [
    {
     "name": "stdout",
     "output_type": "stream",
     "text": [
      "hello world\n"
     ]
    }
   ],
   "source": [
    "print(\"hello world\")"
   ]
  },
  {
   "cell_type": "code",
   "execution_count": 7,
   "metadata": {},
   "outputs": [
    {
     "name": "stdout",
     "output_type": "stream",
     "text": [
      "26\n",
      "26\n",
      "26\n",
      "24\n"
     ]
    }
   ],
   "source": [
    "age = 23\n",
    "GPA = 3.65\n",
    "age = age +2\n",
    "age +=2\n",
    "print (age // 2)\n",
    "print (24+2)\n",
    "print(26)\n",
    "print (age )\n",
    "\n",
    "\n"
   ]
  },
  {
   "cell_type": "code",
   "execution_count": 11,
   "metadata": {},
   "outputs": [
    {
     "name": "stdout",
     "output_type": "stream",
     "text": [
      "(2+3j)\n",
      "(2+3j)\n"
     ]
    }
   ],
   "source": [
    "age = 24\n",
    "GPA = 3.65\n",
    "# complexNumber = complex(2,3)\n",
    "# c = 2+3j\n",
    "# print (c)\n",
    "# print (complexNumber)"
   ]
  },
  {
   "cell_type": "code",
   "execution_count": 23,
   "metadata": {},
   "outputs": [
    {
     "name": "stdout",
     "output_type": "stream",
     "text": [
      "hi\n",
      "{}\n",
      "5\n",
      "False\n",
      "hi\n",
      "5\n"
     ]
    }
   ],
   "source": [
    "# status = True\n",
    "# print (1==True)\n",
    "# print (10==True)\n",
    "# print (\"test\"==True)\n",
    "# print (0 == False)\n",
    "\n",
    "print (True and 1 and 10 and \"hi\")\n",
    "print (True and {} and 10 and \"hi\")\n",
    "print(5 or \"s   \" or \"hi\" or 1 or False)\n",
    "print(not \"hi\")\n",
    "print( (5 or 3) and \"hi\") # hi\n",
    "print( 5 or 3 and \"hi\") # 5\n"
   ]
  },
  {
   "cell_type": "code",
   "execution_count": 33,
   "metadata": {},
   "outputs": [
    {
     "name": "stdout",
     "output_type": "stream",
     "text": [
      "test\n",
      "C\n"
     ]
    }
   ],
   "source": [
    "degree = 60 \n",
    "\n",
    "if degree >= 60 and degree <70 :\n",
    "    grade = \"C\"\n",
    "    print(\"test\")\n",
    "elif degree >=70 and degree <80 :\n",
    "  grade = \"B\"\n",
    "elif degree >=80 and degree <90 :\n",
    "    grade = \"A\"\n",
    "else : \n",
    "    grade= \"F\"\n",
    "print(grade)\n"
   ]
  },
  {
   "cell_type": "code",
   "execution_count": 2,
   "metadata": {},
   "outputs": [
    {
     "name": "stdout",
     "output_type": "stream",
     "text": [
      "succeeded in only docker 😥\n",
      "failed \n",
      "failed \n",
      "succeeded\n",
      "succeeded\n",
      "succeeded\n",
      "succeeded\n",
      "failed \n",
      "succeeded\n",
      "succeeded\n",
      "succeeded\n",
      "processed successfully\n"
     ]
    }
   ],
   "source": [
    "dockerGrade = 70\n",
    "apacheGrade = 50\n",
    "if apacheGrade >= 60 :\n",
    "    if dockerGrade >= 60 :\n",
    "        print(\"succeeded in both tasks 🎉\")\n",
    "    else :\n",
    "        print(\"succeeded in only apache 😥\")\n",
    "elif dockerGrade >= 60 :\n",
    "        print(\"succeeded in only docker 😥\")\n",
    "else:\n",
    "    print (\"failed in both 😥\")\n",
    "\n",
    "initial = 1\n",
    "while initial <= 5:\n",
    "    degree = input(\"input the stuednt degree : \")\n",
    "    if int(degree) >= 60:\n",
    "        print (\"succeeded\")\n",
    "    else:\n",
    "        print(\"failed \")\n",
    "    initial +=1\n",
    "\n",
    "for iterator in range (5):\n",
    "    degree = input(\"input the stuednt degree : \")\n",
    "    if int(degree) >= 60:\n",
    "        print (\"succeeded\")\n",
    "    else:\n",
    "        print(\"failed \")\n",
    "else:\n",
    "    print(\"processed successfully\")\n",
    "\n",
    "\n",
    "\n",
    "    \n"
   ]
  },
  {
   "cell_type": "code",
   "execution_count": 6,
   "metadata": {},
   "outputs": [
    {
     "name": "stdout",
     "output_type": "stream",
     "text": [
      "failed \n",
      "succeeded\n",
      "processed successfully\n"
     ]
    }
   ],
   "source": [
    "for iterator in range (2): # range (0,5,1)\n",
    "    degree = input(\"input the stuednt degree : \")\n",
    "    if int (degree) == 50:\n",
    "        break\n",
    "    if int(degree) >= 60:\n",
    "        print (\"succeeded\")\n",
    "    else:\n",
    "        print(\"failed \")\n",
    "else:\n",
    "    print(\"processed successfully\")"
   ]
  },
  {
   "cell_type": "code",
   "execution_count": 19,
   "metadata": {},
   "outputs": [
    {
     "name": "stdout",
     "output_type": "stream",
     "text": [
      "24\n",
      "hima\n",
      "s h i m a a   \n",
      " m o h a m m e d \n",
      " k h a l l a f s_h_i_m_a_a_ _\n",
      "_m_o_h_a_m_m_e_d_\n",
      "_k_h_a_l_l_a_f_"
     ]
    }
   ],
   "source": [
    "fullName =\"\"\"shimaa \n",
    "mohammed\n",
    "khallaf\"\"\" \n",
    "print(len(fullName))\n",
    "\n",
    "print(fullName[1:5])\n",
    "# fullName[5] =\"h\" # error\n",
    "for index in range (len(fullName)):\n",
    "    print(fullName[index] , end =\" \")\n",
    "for char in fullName :\n",
    "    print(char,end=\"_\")\n"
   ]
  },
  {
   "cell_type": "code",
   "execution_count": 33,
   "metadata": {},
   "outputs": [
    {
     "name": "stdout",
     "output_type": "stream",
     "text": [
      "shimaa__mohammed\n",
      "7\n",
      "3\n"
     ]
    }
   ],
   "source": [
    "name = \"   shimaa  mohammed   \"\n",
    "print(name.strip().replace(\" \" , \"_\" ))\n",
    "print(name.index(\"a\"))\n",
    "print(name.count(\"a\"))\n",
    "# print(len (name))\n",
    "# print(name.strip())\n",
    "# print(name)\n",
    "# name = name.strip(\" shde\")\n",
    "# print(name)\n",
    "\n"
   ]
  },
  {
   "cell_type": "code",
   "execution_count": 38,
   "metadata": {},
   "outputs": [
    {
     "name": "stdout",
     "output_type": "stream",
     "text": [
      "3.4\n",
      "<class 'str'>\n"
     ]
    }
   ],
   "source": [
    "age = input(\"input your age: \")\n",
    "if age.isdigit():\n",
    "    age = int(age)\n",
    "print(age)\n",
    "print(type(age))\n"
   ]
  },
  {
   "cell_type": "code",
   "execution_count": 40,
   "metadata": {},
   "outputs": [
    {
     "name": "stdout",
     "output_type": "stream",
     "text": [
      "omnia mohammed Elsayed mohammed Elsayed mohammed Elsayed mohammed Elsayed Abo ahmed\n"
     ]
    }
   ],
   "source": [
    "name = \"omnia \"+(\"mohammed Elsayed \"*4 )+ \"Abo ahmed\"\n",
    "print(name)"
   ]
  },
  {
   "cell_type": "code",
   "execution_count": 46,
   "metadata": {},
   "outputs": [
    {
     "name": "stdout",
     "output_type": "stream",
     "text": [
      "my name is shimaa. I love python\n",
      "my name is yarayara . I love C++\n"
     ]
    }
   ],
   "source": [
    "template = \"my name is {name}. I love {lang}\"\n",
    "shimaa = template.format(name = \"shimaa\" ,lang = \"python\")\n",
    "shimaa = template.format(lang = \"python\" , name = \"shimaa\")\n",
    "print(shimaa)\n",
    "name = \"yara\"\n",
    "lang=\"C++\"\n",
    "print(f\"my name is {name * 2} . I love {lang}\")"
   ]
  }
 ],
 "metadata": {
  "kernelspec": {
   "display_name": "Python 3",
   "language": "python",
   "name": "python3"
  },
  "language_info": {
   "codemirror_mode": {
    "name": "ipython",
    "version": 3
   },
   "file_extension": ".py",
   "mimetype": "text/x-python",
   "name": "python",
   "nbconvert_exporter": "python",
   "pygments_lexer": "ipython3",
   "version": "3.11.2"
  }
 },
 "nbformat": 4,
 "nbformat_minor": 2
}
